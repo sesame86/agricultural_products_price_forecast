{
 "cells": [
  {
   "cell_type": "code",
   "execution_count": 2,
   "metadata": {},
   "outputs": [],
   "source": [
    "import requests\n",
    "import csv\n",
    "import pandas as pd\n",
    "from fbprophet import Prophet"
   ]
  },
  {
   "cell_type": "markdown",
   "metadata": {},
   "source": [
    "# 사과(10개)"
   ]
  },
  {
   "cell_type": "code",
   "execution_count": null,
   "metadata": {},
   "outputs": [],
   "source": [
    "url = \"http://www.kamis.or.kr/service/price/xml.do?action=periodProductList\"\n",
    "key =\"ab75d97b-22d9-4b8d-a200-b6fd3c1d2a31\"\n",
    "\n",
    "payload = {\"p_cert_key\":key,\n",
    "           \"p_cert_id\":\"1202\",  #요청자 id\n",
    "           \"p_returntype\":\"json\",\n",
    "           \"p_startday\":\"2016-01-01\",\n",
    "           \"p_endday\":\"2016-12-31\",\n",
    "           \"p_productclscode\":\"01\",  #01 소매 02 도매\n",
    "           \"p_itemcategorycode\":\"400\",  #부류코드\n",
    "           \"p_itemcode\":\"411\", #품목코드\n",
    "           \"p_kindcode\":\"05\",  #품종코드\n",
    "           \"p_productrankcode\":\"04\",  #일반 등급\n",
    "           \"p_convert_kg_yn\":\"N\"  #defalt = 100g\n",
    "           }\n",
    "\n",
    "r = requests.get(url, params = payload)\n",
    "data = r.json()\n",
    "\n",
    "price_data = data[\"data\"][\"item\"]\n",
    "\n",
    "with open(\"D:/학교/4학년/1학기/캡스톤디자인/[final]과일 데이터/사과/후지/가격/df_2016.csv\", \"w\", newline='', encoding='utf-8') as out:\n",
    "    mylist = csv.writer(out, delimiter=',')\n",
    "    for item in price_data:\n",
    "        if item['countyname']=='평균':\n",
    "            mylist.writerow([item['yyyy'],item['regday'],item['price']]) "
   ]
  },
  {
   "cell_type": "markdown",
   "metadata": {},
   "source": [
    "# 붉은 고추(100g)o"
   ]
  },
  {
   "cell_type": "code",
   "execution_count": null,
   "metadata": {},
   "outputs": [],
   "source": [
    "url = \"http://www.kamis.or.kr/service/price/xml.do?action=periodProductList\"\n",
    "key =\"ab75d97b-22d9-4b8d-a200-b6fd3c1d2a31\"\n",
    "\n",
    "payload = {\"p_cert_key\":key,\n",
    "           \"p_cert_id\":\"1202\",  #요청자 id\n",
    "           \"p_returntype\":\"json\",\n",
    "           \"p_startday\":\"2014-01-01\",\n",
    "           \"p_endday\":\"2014-12-31\",\n",
    "           \"p_productclscode\":\"01\",  #01 소매 02 도매\n",
    "           \"p_itemcategorycode\":\"200\",  #부류코드\n",
    "           \"p_itemcode\":\"243\", #품목코드\n",
    "           \"p_kindcode\":\"00\",  #품종코드\n",
    "           \"p_productrankcode\":\"04\",  #일반 등급\n",
    "           \"p_convert_kg_yn\":\"N\"  #defalt = 100g\n",
    "           }\n",
    "\n",
    "r = requests.get(url, params = payload)\n",
    "data = r.json()\n",
    "\n",
    "price_data = data[\"data\"][\"item\"]\n",
    "\n",
    "for item in price_data:\n",
    "    print(item['regday'])"
   ]
  },
  {
   "cell_type": "markdown",
   "metadata": {},
   "source": [
    "# 양파(1kg)"
   ]
  },
  {
   "cell_type": "code",
   "execution_count": null,
   "metadata": {},
   "outputs": [],
   "source": [
    "url = \"http://www.kamis.or.kr/service/price/xml.do?action=periodProductList\"\n",
    "key =\"ab75d97b-22d9-4b8d-a200-b6fd3c1d2a31\"\n",
    "\n",
    "payload = {\"p_cert_key\":key,\n",
    "           \"p_cert_id\":\"1202\",  #요청자 id\n",
    "           \"p_returntype\":\"json\",\n",
    "           \"p_startday\":\"2010-01-01\",\n",
    "           \"p_endday\":\"2010-12-31\",\n",
    "           \"p_productclscode\":\"01\",  #01 소매 02 도매\n",
    "           \"p_itemcategorycode\":\"200\",  #부류코드\n",
    "           \"p_itemcode\":\"245\", #품목코드\n",
    "           \"p_kindcode\":\"00\",  #품종코드\n",
    "           \"p_productrankcode\":\"04\",  #일반 등급\n",
    "           \"p_convert_kg_yn\":\"N\"  #defalt = 1kg\n",
    "           }\n",
    "\n",
    "r = requests.get(url, params = payload)\n",
    "data = r.json()\n",
    "\n",
    "price_data = data[\"data\"][\"item\"]\n",
    "\n",
    "with open(\"D:/학교/4학년/1학기/캡스톤디자인/농산물 유통정보/양파/가격/df_2018.csv\", \"w\", newline='', encoding='utf-8') as out:\n",
    "    mylist = csv.writer(out, delimiter=',')\n",
    "    for item in price_data:\n",
    "        if item['countyname']=='평균':\n",
    "            mylist.writerow([item['yyyy'],item['regday'],item['price']]) "
   ]
  },
  {
   "cell_type": "markdown",
   "metadata": {},
   "source": [
    "# 깐마늘(1kg) 국산o"
   ]
  },
  {
   "cell_type": "code",
   "execution_count": null,
   "metadata": {},
   "outputs": [],
   "source": [
    "url = \"http://www.kamis.or.kr/service/price/xml.do?action=periodProductList\"\n",
    "key =\"ab75d97b-22d9-4b8d-a200-b6fd3c1d2a31\"\n",
    "\n",
    "payload = {\"p_cert_key\":key,\n",
    "           \"p_cert_id\":\"1202\",  #요청자 id\n",
    "           \"p_returntype\":\"json\",\n",
    "           \"p_startday\":\"2010-01-01\",\n",
    "           \"p_endday\":\"2010-12-31\",\n",
    "           \"p_productclscode\":\"01\",  #01 소매 02 도매\n",
    "           \"p_itemcategorycode\":\"200\",  #부류코드\n",
    "           \"p_itemcode\":\"258\", #품목코드\n",
    "           \"p_kindcode\":\"01\",  #품종코드\n",
    "           \"p_productrankcode\":\"04\",  #일반 등급\n",
    "           \"p_convert_kg_yn\":\"N\"  #defalt = 100g\n",
    "           }\n",
    "\n",
    "r = requests.get(url, params = payload)\n",
    "data = r.json()\n",
    "\n",
    "price_data = data[\"data\"][\"item\"]\n",
    "\n",
    "for item in price_data:\n",
    "    print(item['regday'])"
   ]
  },
  {
   "cell_type": "markdown",
   "metadata": {},
   "source": [
    "# 대파(1kg)"
   ]
  },
  {
   "cell_type": "code",
   "execution_count": 14,
   "metadata": {},
   "outputs": [],
   "source": [
    "url = \"http://www.kamis.or.kr/service/price/xml.do?action=periodProductList\"\n",
    "key =\"ab75d97b-22d9-4b8d-a200-b6fd3c1d2a31\"\n",
    "\n",
    "payload = {\"p_cert_key\":key,\n",
    "           \"p_cert_id\":\"1202\",  #요청자 id\n",
    "           \"p_returntype\":\"json\",\n",
    "           \"p_startday\":\"2018-01-01\",\n",
    "           \"p_endday\":\"2018-12-31\",\n",
    "           \"p_productclscode\":\"01\",  #01 소매 02 도매\n",
    "           \"p_itemcategorycode\":\"200\",  #부류코드\n",
    "           \"p_itemcode\":\"246\", #품목코드\n",
    "           \"p_kindcode\":\"00\",  #품종코드\n",
    "           \"p_productrankcode\":\"04\",  #일반 등급\n",
    "           \"p_convert_kg_yn\":\"N\"  #defalt = 100g\n",
    "           }\n",
    "\n",
    "r = requests.get(url, params = payload)\n",
    "data = r.json()\n",
    "\n",
    "price_data = data[\"data\"][\"item\"]\n",
    "\n",
    "with open(\"D:/학교/4학년/1학기/캡스톤디자인/농산물 유통정보/대파/가격/df_2018.csv\", \"w\", newline='', encoding='utf-8') as out:\n",
    "    mylist = csv.writer(out, delimiter=',')\n",
    "    for item in price_data:\n",
    "        if item['countyname']=='평균':\n",
    "            mylist.writerow([item['yyyy'],item['regday'],item['price']]) "
   ]
  },
  {
   "cell_type": "markdown",
   "metadata": {},
   "source": [
    "# 생강(1kg)"
   ]
  },
  {
   "cell_type": "code",
   "execution_count": 13,
   "metadata": {},
   "outputs": [],
   "source": [
    "url = \"http://www.kamis.or.kr/service/price/xml.do?action=periodProductList\"\n",
    "key =\"ab75d97b-22d9-4b8d-a200-b6fd3c1d2a31\"\n",
    "\n",
    "payload = {\"p_cert_key\":key,\n",
    "           \"p_cert_id\":\"1202\",  #요청자 id\n",
    "           \"p_returntype\":\"json\",\n",
    "           \"p_startday\":\"2020-01-01\",\n",
    "           \"p_endday\":\"2020-12-31\",\n",
    "           \"p_productclscode\":\"01\",  #01 소매 02 도매\n",
    "           \"p_itemcategorycode\":\"200\",  #부류코드\n",
    "           \"p_itemcode\":\"247\", #품목코드\n",
    "           \"p_kindcode\":\"00\",  #품종코드\n",
    "           \"p_productrankcode\":\"04\",  #일반 등급\n",
    "           \"p_convert_kg_yn\":\"N\"  #defalt = 100g\n",
    "           }\n",
    "\n",
    "r = requests.get(url, params = payload)\n",
    "data = r.json()\n",
    "\n",
    "price_data = data[\"data\"][\"item\"]\n",
    "\n",
    "with open(\"D:/학교/4학년/1학기/캡스톤디자인/농산물 유통정보/생강/가격/df_2020.csv\", \"w\", newline='', encoding='utf-8') as out:\n",
    "    mylist = csv.writer(out, delimiter=',')\n",
    "    for item in price_data:\n",
    "        if item['countyname']=='평균':\n",
    "            mylist.writerow([item['yyyy'],item['regday'],item['price']]) "
   ]
  },
  {
   "cell_type": "markdown",
   "metadata": {},
   "source": [
    "# 건고추(600g)"
   ]
  },
  {
   "cell_type": "markdown",
   "metadata": {},
   "source": [
    "### 화건"
   ]
  },
  {
   "cell_type": "code",
   "execution_count": null,
   "metadata": {},
   "outputs": [],
   "source": [
    "url = \"http://www.kamis.or.kr/service/price/xml.do?action=periodProductList\"\n",
    "key =\"ab75d97b-22d9-4b8d-a200-b6fd3c1d2a31\"\n",
    "\n",
    "payload = {\"p_cert_key\":key,\n",
    "           \"p_cert_id\":\"1202\",  #요청자 id\n",
    "           \"p_returntype\":\"json\",\n",
    "           \"p_startday\":\"2010-01-01\",\n",
    "           \"p_endday\":\"2010-12-31\",\n",
    "           \"p_productclscode\":\"01\",  #01 소매 02 도매\n",
    "           \"p_itemcategorycode\":\"200\",  #부류코드\n",
    "           \"p_itemcode\":\"241\", #품목코드\n",
    "           \"p_kindcode\":\"00\",  #품종코드\n",
    "           \"p_productrankcode\":\"04\",  #일반 등급\n",
    "           \"p_convert_kg_yn\":\"N\"  #defalt = 100g\n",
    "           }\n",
    "\n",
    "r = requests.get(url, params = payload)\n",
    "data = r.json()\n",
    "\n",
    "price_data = data[\"data\"][\"item\"]\n",
    "\n",
    "for item in price_data:\n",
    "    print(item['regday'])"
   ]
  },
  {
   "cell_type": "markdown",
   "metadata": {},
   "source": [
    "### 양건"
   ]
  },
  {
   "cell_type": "code",
   "execution_count": null,
   "metadata": {},
   "outputs": [],
   "source": [
    "url = \"http://www.kamis.or.kr/service/price/xml.do?action=periodProductList\"\n",
    "key =\"ab75d97b-22d9-4b8d-a200-b6fd3c1d2a31\"\n",
    "\n",
    "payload = {\"p_cert_key\":key,\n",
    "           \"p_cert_id\":\"1202\",  #요청자 id\n",
    "           \"p_returntype\":\"json\",\n",
    "           \"p_startday\":\"2010-01-01\",\n",
    "           \"p_endday\":\"2010-12-31\",\n",
    "           \"p_productclscode\":\"01\",  #01 소매 02 도매\n",
    "           \"p_itemcategorycode\":\"200\",  #부류코드\n",
    "           \"p_itemcode\":\"241\", #품목코드\n",
    "           \"p_kindcode\":\"02\",  #품종코드\n",
    "           \"p_productrankcode\":\"04\",  #일반 등급\n",
    "           \"p_convert_kg_yn\":\"N\"  #defalt = 100g\n",
    "           }\n",
    "\n",
    "r = requests.get(url, params = payload)\n",
    "data = r.json()\n",
    "\n",
    "price_data = data[\"data\"][\"item\"]\n",
    "\n",
    "for item in price_data:\n",
    "    print(item['regday'])"
   ]
  }
 ],
 "metadata": {
  "kernelspec": {
   "display_name": "Python 3",
   "language": "python",
   "name": "python3"
  },
  "language_info": {
   "codemirror_mode": {
    "name": "ipython",
    "version": 3
   },
   "file_extension": ".py",
   "mimetype": "text/x-python",
   "name": "python",
   "nbconvert_exporter": "python",
   "pygments_lexer": "ipython3",
   "version": "3.8.3"
  }
 },
 "nbformat": 4,
 "nbformat_minor": 4
}
